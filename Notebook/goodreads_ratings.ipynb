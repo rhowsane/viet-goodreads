{
 "cells": [
  {
   "cell_type": "markdown",
   "metadata": {},
   "source": [
    "### Imports"
   ]
  },
  {
   "cell_type": "code",
   "execution_count": 2,
   "metadata": {},
   "outputs": [
    {
     "data": {
      "text/html": [
       "<div>\n",
       "<style scoped>\n",
       "    .dataframe tbody tr th:only-of-type {\n",
       "        vertical-align: middle;\n",
       "    }\n",
       "\n",
       "    .dataframe tbody tr th {\n",
       "        vertical-align: top;\n",
       "    }\n",
       "\n",
       "    .dataframe thead th {\n",
       "        text-align: right;\n",
       "    }\n",
       "</style>\n",
       "<table border=\"1\" class=\"dataframe\">\n",
       "  <thead>\n",
       "    <tr style=\"text-align: right;\">\n",
       "      <th></th>\n",
       "      <th>bookID</th>\n",
       "      <th>title</th>\n",
       "      <th>authors</th>\n",
       "      <th>average_rating</th>\n",
       "      <th>isbn</th>\n",
       "      <th>isbn13</th>\n",
       "      <th>language_code</th>\n",
       "      <th>num_pages</th>\n",
       "      <th>ratings_count</th>\n",
       "      <th>text_reviews_count</th>\n",
       "      <th>publication_date</th>\n",
       "      <th>publisher</th>\n",
       "      <th>column1</th>\n",
       "      <th>column2</th>\n",
       "      <th>column3</th>\n",
       "    </tr>\n",
       "  </thead>\n",
       "  <tbody>\n",
       "    <tr>\n",
       "      <th>0</th>\n",
       "      <td>1</td>\n",
       "      <td>Harry Potter and the Half-Blood Prince (Harry Potter  #6)</td>\n",
       "      <td>J.K. Rowling/Mary GrandPré</td>\n",
       "      <td>4.57</td>\n",
       "      <td>439785960</td>\n",
       "      <td>9780439785969</td>\n",
       "      <td>eng</td>\n",
       "      <td>652</td>\n",
       "      <td>2095690</td>\n",
       "      <td>27591</td>\n",
       "      <td>9/16/2006</td>\n",
       "      <td>Scholastic Inc.</td>\n",
       "      <td>NaN</td>\n",
       "      <td>NaN</td>\n",
       "      <td>NaN</td>\n",
       "    </tr>\n",
       "    <tr>\n",
       "      <th>1</th>\n",
       "      <td>2</td>\n",
       "      <td>Harry Potter and the Order of the Phoenix (Harry Potter  #5)</td>\n",
       "      <td>J.K. Rowling/Mary GrandPré</td>\n",
       "      <td>4.49</td>\n",
       "      <td>439358078</td>\n",
       "      <td>9780439358071</td>\n",
       "      <td>eng</td>\n",
       "      <td>870</td>\n",
       "      <td>2153167</td>\n",
       "      <td>29221</td>\n",
       "      <td>9/1/2004</td>\n",
       "      <td>Scholastic Inc.</td>\n",
       "      <td>NaN</td>\n",
       "      <td>NaN</td>\n",
       "      <td>NaN</td>\n",
       "    </tr>\n",
       "    <tr>\n",
       "      <th>2</th>\n",
       "      <td>4</td>\n",
       "      <td>Harry Potter and the Chamber of Secrets (Harry Potter  #2)</td>\n",
       "      <td>J.K. Rowling</td>\n",
       "      <td>4.42</td>\n",
       "      <td>439554896</td>\n",
       "      <td>9780439554893</td>\n",
       "      <td>eng</td>\n",
       "      <td>352</td>\n",
       "      <td>6333</td>\n",
       "      <td>244</td>\n",
       "      <td>11/1/2003</td>\n",
       "      <td>Scholastic</td>\n",
       "      <td>NaN</td>\n",
       "      <td>NaN</td>\n",
       "      <td>NaN</td>\n",
       "    </tr>\n",
       "  </tbody>\n",
       "</table>\n",
       "</div>"
      ],
      "text/plain": [
       "   bookID                                                         title  \\\n",
       "0       1     Harry Potter and the Half-Blood Prince (Harry Potter  #6)   \n",
       "1       2  Harry Potter and the Order of the Phoenix (Harry Potter  #5)   \n",
       "2       4    Harry Potter and the Chamber of Secrets (Harry Potter  #2)   \n",
       "\n",
       "                      authors average_rating       isbn         isbn13  \\\n",
       "0  J.K. Rowling/Mary GrandPré           4.57  439785960  9780439785969   \n",
       "1  J.K. Rowling/Mary GrandPré           4.49  439358078  9780439358071   \n",
       "2                J.K. Rowling           4.42  439554896  9780439554893   \n",
       "\n",
       "  language_code   num_pages ratings_count text_reviews_count publication_date  \\\n",
       "0           eng         652       2095690              27591        9/16/2006   \n",
       "1           eng         870       2153167              29221         9/1/2004   \n",
       "2           eng         352          6333                244        11/1/2003   \n",
       "\n",
       "         publisher column1 column2 column3  \n",
       "0  Scholastic Inc.     NaN     NaN     NaN  \n",
       "1  Scholastic Inc.     NaN     NaN     NaN  \n",
       "2       Scholastic     NaN     NaN     NaN  "
      ]
     },
     "execution_count": 2,
     "metadata": {},
     "output_type": "execute_result"
    }
   ],
   "source": [
    "import pandas as pd\n",
    "import numpy as np\n",
    "import matplotlib.pyplot as plt\n",
    "import seaborn as sns\n",
    "\n",
    "from sklearn.preprocessing import OneHotEncoder, OrdinalEncoder\n",
    "#from sklearn.feature_extraction.text import CountVectorizer\n",
    "from sklearn.pipeline import Pipeline\n",
    "from sklearn.compose import ColumnTransformer\n",
    "from sklearn.model_selection import cross_validate\n",
    "from sklearn.linear_model import LinearRegression\n",
    "from sklearn.tree import DecisionTreeRegressor\n",
    "from sklearn.ensemble import GradientBoostingRegressor\n",
    "\n",
    "import mlflow\n",
    "from mlflow import log_metric, log_param\n",
    "\n",
    "sns.set_theme()\n",
    "\n",
    "# Load the dataset\n",
    "pd.set_option(\"display.max_colwidth\", None)\n",
    "df_from_csv = pd.read_csv('../Dataset/books_0.2.csv')\n",
    "df_from_csv.head(3)"
   ]
  },
  {
   "cell_type": "markdown",
   "metadata": {},
   "source": [
    "The data from __books_0.2.csv__ is a version of the original file __books_0.1.csv__. The transformation is explained on the notes-version-datasets.txt.  \n",
    "But when parsing the csv to pandas, it results on __;;;__ being added on the end of the publisher column name. Each semi colon corresponding to a column in the csv where there were some data inside. So on the csv file, we named each one of the columns: column1, column2 and column3 to be able to use the dataframe.  \n",
    "We checked the nature of some of these rows/books on the Goodreads platform and usually they belonged to a book series.  "
   ]
  },
  {
   "cell_type": "code",
   "execution_count": 3,
   "metadata": {},
   "outputs": [
    {
     "data": {
      "text/html": [
       "<div>\n",
       "<style scoped>\n",
       "    .dataframe tbody tr th:only-of-type {\n",
       "        vertical-align: middle;\n",
       "    }\n",
       "\n",
       "    .dataframe tbody tr th {\n",
       "        vertical-align: top;\n",
       "    }\n",
       "\n",
       "    .dataframe thead th {\n",
       "        text-align: right;\n",
       "    }\n",
       "</style>\n",
       "<table border=\"1\" class=\"dataframe\">\n",
       "  <thead>\n",
       "    <tr style=\"text-align: right;\">\n",
       "      <th></th>\n",
       "      <th>bookID</th>\n",
       "      <th>title</th>\n",
       "      <th>authors</th>\n",
       "      <th>average_rating</th>\n",
       "      <th>isbn</th>\n",
       "      <th>isbn13</th>\n",
       "      <th>language_code</th>\n",
       "      <th>num_pages</th>\n",
       "      <th>ratings_count</th>\n",
       "      <th>text_reviews_count</th>\n",
       "      <th>publication_date</th>\n",
       "      <th>publisher</th>\n",
       "      <th>column1</th>\n",
       "      <th>column2</th>\n",
       "      <th>column3</th>\n",
       "    </tr>\n",
       "  </thead>\n",
       "  <tbody>\n",
       "    <tr>\n",
       "      <th>483</th>\n",
       "      <td>1537</td>\n",
       "      <td>The Oedipus Plays of Sophocles: Oedipus the King</td>\n",
       "      <td>Oedipus at Colonus</td>\n",
       "      <td>Antigone</td>\n",
       "      <td>Sophocles/Paul Roche</td>\n",
       "      <td>3.97</td>\n",
       "      <td>452011671</td>\n",
       "      <td>9780452011670</td>\n",
       "      <td>eng</td>\n",
       "      <td>288</td>\n",
       "      <td>553</td>\n",
       "      <td>46</td>\n",
       "      <td>5/1/1996</td>\n",
       "      <td>Plume</td>\n",
       "      <td>NaN</td>\n",
       "    </tr>\n",
       "    <tr>\n",
       "      <th>490</th>\n",
       "      <td>1549</td>\n",
       "      <td>Antigone</td>\n",
       "      <td>Oedipus the Kingn</td>\n",
       "      <td>Electra</td>\n",
       "      <td>Sophocles/Edith Hall/H.D.F. Kitto</td>\n",
       "      <td>3.94</td>\n",
       "      <td>192835882</td>\n",
       "      <td>9780192835888</td>\n",
       "      <td>eng</td>\n",
       "      <td>178</td>\n",
       "      <td>13358</td>\n",
       "      <td>199</td>\n",
       "      <td>9/17/1998</td>\n",
       "      <td>Oxford University Press</td>\n",
       "      <td>NaN</td>\n",
       "    </tr>\n",
       "    <tr>\n",
       "      <th>751</th>\n",
       "      <td>2442</td>\n",
       "      <td>Witches Abroad (Discworld  #12</td>\n",
       "      <td>Witches #3)</td>\n",
       "      <td>Terry Pratchett</td>\n",
       "      <td>4.22</td>\n",
       "      <td>61020613</td>\n",
       "      <td>9780061020612</td>\n",
       "      <td>eng</td>\n",
       "      <td>374</td>\n",
       "      <td>58408</td>\n",
       "      <td>1272</td>\n",
       "      <td>7/30/2002</td>\n",
       "      <td>HarperTorch</td>\n",
       "      <td>NaN</td>\n",
       "      <td>NaN</td>\n",
       "    </tr>\n",
       "    <tr>\n",
       "      <th>1028</th>\n",
       "      <td>3479</td>\n",
       "      <td>Sugarplums and Scandal  (Love at Stake #2.5</td>\n",
       "      <td>Bed-and-Breakfast Mysteries #22.5)</td>\n",
       "      <td>Lori Avocato/Dana Cameron/Mary Dahiem/Suzanne Macpherson/Cait London/Kerrelyn Sparks/Mary Daheim</td>\n",
       "      <td>3.98</td>\n",
       "      <td>61136956</td>\n",
       "      <td>9780061136955</td>\n",
       "      <td>eng</td>\n",
       "      <td>327</td>\n",
       "      <td>1967</td>\n",
       "      <td>66</td>\n",
       "      <td>10/31/2006</td>\n",
       "      <td>Avon</td>\n",
       "      <td>NaN</td>\n",
       "      <td>NaN</td>\n",
       "    </tr>\n",
       "    <tr>\n",
       "      <th>1155</th>\n",
       "      <td>3852</td>\n",
       "      <td>Primal Heat (Includes: Breeds  #8.5</td>\n",
       "      <td>Devlin Dynasty  #1</td>\n",
       "      <td>Moon Lust  #1)</td>\n",
       "      <td>Lora Leigh/Sherri L. King/Lorie O'Clare/Jaci Burton</td>\n",
       "      <td>4.13</td>\n",
       "      <td>1843607409</td>\n",
       "      <td>9781843607403</td>\n",
       "      <td>eng</td>\n",
       "      <td>196</td>\n",
       "      <td>3567</td>\n",
       "      <td>62</td>\n",
       "      <td>5/15/2004</td>\n",
       "      <td>Ellora's Cave</td>\n",
       "      <td>NaN</td>\n",
       "    </tr>\n",
       "  </tbody>\n",
       "</table>\n",
       "</div>"
      ],
      "text/plain": [
       "      bookID                                             title  \\\n",
       "483     1537  The Oedipus Plays of Sophocles: Oedipus the King   \n",
       "490     1549                                          Antigone   \n",
       "751     2442                    Witches Abroad (Discworld  #12   \n",
       "1028    3479       Sugarplums and Scandal  (Love at Stake #2.5   \n",
       "1155    3852               Primal Heat (Includes: Breeds  #8.5   \n",
       "\n",
       "                                  authors  \\\n",
       "483                    Oedipus at Colonus   \n",
       "490                     Oedipus the Kingn   \n",
       "751                           Witches #3)   \n",
       "1028   Bed-and-Breakfast Mysteries #22.5)   \n",
       "1155                   Devlin Dynasty  #1   \n",
       "\n",
       "                                                                                        average_rating  \\\n",
       "483                                                                                           Antigone   \n",
       "490                                                                                            Electra   \n",
       "751                                                                                    Terry Pratchett   \n",
       "1028  Lori Avocato/Dana Cameron/Mary Dahiem/Suzanne Macpherson/Cait London/Kerrelyn Sparks/Mary Daheim   \n",
       "1155                                                                                    Moon Lust  #1)   \n",
       "\n",
       "                                                     isbn    isbn13  \\\n",
       "483                                  Sophocles/Paul Roche      3.97   \n",
       "490                     Sophocles/Edith Hall/H.D.F. Kitto      3.94   \n",
       "751                                                  4.22  61020613   \n",
       "1028                                                 3.98  61136956   \n",
       "1155  Lora Leigh/Sherri L. King/Lorie O'Clare/Jaci Burton      4.13   \n",
       "\n",
       "      language_code      num_pages ratings_count text_reviews_count  \\\n",
       "483       452011671  9780452011670           eng                288   \n",
       "490       192835882  9780192835888           eng                178   \n",
       "751   9780061020612            eng           374              58408   \n",
       "1028  9780061136955            eng           327               1967   \n",
       "1155     1843607409  9781843607403           eng                196   \n",
       "\n",
       "     publication_date   publisher      column1                  column2  \\\n",
       "483               553          46     5/1/1996                    Plume   \n",
       "490             13358         199    9/17/1998  Oxford University Press   \n",
       "751              1272   7/30/2002  HarperTorch                      NaN   \n",
       "1028               66  10/31/2006         Avon                      NaN   \n",
       "1155             3567          62    5/15/2004            Ellora's Cave   \n",
       "\n",
       "     column3  \n",
       "483      NaN  \n",
       "490      NaN  \n",
       "751      NaN  \n",
       "1028     NaN  \n",
       "1155     NaN  "
      ]
     },
     "execution_count": 3,
     "metadata": {},
     "output_type": "execute_result"
    }
   ],
   "source": [
    "df_from_csv.loc[(~df_from_csv[\"column1\"].isna())|(~df_from_csv[\"column2\"].isna())|(~df_from_csv[\"column3\"].isna())].head()"
   ]
  },
  {
   "cell_type": "markdown",
   "metadata": {},
   "source": [
    "Below we took only the rows where the columns we created were empty."
   ]
  },
  {
   "cell_type": "code",
   "execution_count": 4,
   "metadata": {},
   "outputs": [
    {
     "name": "stdout",
     "output_type": "stream",
     "text": [
      "<class 'pandas.core.frame.DataFrame'>\n",
      "Int64Index: 11072 entries, 0 to 11126\n",
      "Data columns (total 12 columns):\n",
      " #   Column              Non-Null Count  Dtype \n",
      "---  ------              --------------  ----- \n",
      " 0   bookID              11072 non-null  int64 \n",
      " 1   title               11072 non-null  object\n",
      " 2   authors             11072 non-null  object\n",
      " 3   average_rating      11072 non-null  object\n",
      " 4   isbn                11072 non-null  object\n",
      " 5   isbn13              11072 non-null  object\n",
      " 6   language_code       11072 non-null  object\n",
      " 7     num_pages         11072 non-null  object\n",
      " 8   ratings_count       11072 non-null  object\n",
      " 9   text_reviews_count  11072 non-null  object\n",
      " 10  publication_date    11072 non-null  object\n",
      " 11  publisher           11072 non-null  object\n",
      "dtypes: int64(1), object(11)\n",
      "memory usage: 1.1+ MB\n"
     ]
    }
   ],
   "source": [
    "df_filtered_rows = df_from_csv.loc[(df_from_csv[\"column1\"].isna())&(df_from_csv[\"column2\"].isna())&(df_from_csv[\"column3\"].isna())]\n",
    "df = df_filtered_rows.iloc[:,0:-3]\n",
    "df.info()"
   ]
  },
  {
   "attachments": {},
   "cell_type": "markdown",
   "metadata": {},
   "source": [
    "## Data analysis plan:\n",
    "* Data processing:\n",
    "    * Parsing the .csv file\n",
    "    * ( ) Correct string in the right position from df.loc[(~df[\"column1\"].isna())] and merge with the df\n",
    "    * Correct the data types\n",
    "* Cleaning the data with the help of data exploration\n",
    "    * Verify if the categories are uniques\n",
    "* Questions to guide the exploration:  \n",
    "    __\"What are the most important features that could impact book ratings?\"__  \n",
    "    1. Are books with more pages better rated than others?\n",
    "    2. How books in other languages are rated?  \n",
    "    3. Does the publisher impact the ratings?  \n",
    "    4. Does books published long ago are better rated than recently published ones?"
   ]
  },
  {
   "cell_type": "markdown",
   "metadata": {},
   "source": [
    "Due to the uncoordinate data types in some columns, the types of the dataframe became all __object__ data type. So, we reassigned the data types below."
   ]
  },
  {
   "cell_type": "code",
   "execution_count": 5,
   "metadata": {},
   "outputs": [
    {
     "data": {
      "text/plain": [
       "bookID                0\n",
       "title                 0\n",
       "authors               0\n",
       "average_rating        0\n",
       "language_code         0\n",
       "num_pages             0\n",
       "ratings_count         0\n",
       "text_reviews_count    0\n",
       "publication_date      0\n",
       "publisher             0\n",
       "dtype: int64"
      ]
     },
     "execution_count": 5,
     "metadata": {},
     "output_type": "execute_result"
    }
   ],
   "source": [
    "df.rename(columns={\"  num_pages\": \"num_pages\"}, inplace=True)\n",
    "new_types_dict = {\"bookID\":\"string\",\"title\":\"string\", \"authors\":\"string\", \"language_code\":\"category\", \"publisher\":\"string\",\"average_rating\":\"float64\",\"num_pages\":\"int64\", \"ratings_count\":\"int64\",\"text_reviews_count\":\"int64\"}\n",
    "\n",
    "df_formatted: pd.DataFrame = df.copy(deep=True).astype(new_types_dict)\n",
    "df_formatted.drop([\"isbn\", \"isbn13\"], axis=1, inplace=True)\n",
    "df_formatted.isna().sum()"
   ]
  },
  {
   "cell_type": "code",
   "execution_count": 6,
   "metadata": {},
   "outputs": [],
   "source": [
    "df_numerical: pd.DataFrame = df_formatted.select_dtypes(include=[\"int64\",\"float64\"])"
   ]
  },
  {
   "cell_type": "markdown",
   "metadata": {},
   "source": [
    "To answer the __question 1__ \"Are books with more pages better rated than others?\", we should analyse the correlation between these features.\n",
    "We can conclude from the heatmap below that only ratings_count and text_reviews_count are highly correlated. \n",
    "\n",
    "However, using both of these variables for the modelling part would imply data leakage. Since we'll try to predict the ratings of another book in the platform (which goal would not be available for the moment), this information we would not have access to.\n",
    "\n",
    "But we cannot infer any strong relation between number of pages and the average rating."
   ]
  },
  {
   "cell_type": "code",
   "execution_count": 7,
   "metadata": {},
   "outputs": [
    {
     "data": {
      "text/plain": [
       "<Axes: >"
      ]
     },
     "execution_count": 7,
     "metadata": {},
     "output_type": "execute_result"
    },
    {
     "data": {
      "image/png": "[encoded data removed]",
      "text/plain": [
       "<Figure size 640x480 with 2 Axes>"
      ]
     },
     "metadata": {},
     "output_type": "display_data"
    }
   ],
   "source": [
    "sns.heatmap(df_numerical.corr(), annot=True)"
   ]
  },
  {
   "cell_type": "markdown",
   "metadata": {},
   "source": [
    "### 1 Languages"
   ]
  },
  {
   "cell_type": "code",
   "execution_count": 8,
   "metadata": {},
   "outputs": [
    {
     "data": {
      "text/html": [
       "<div>\n",
       "<style scoped>\n",
       "    .dataframe tbody tr th:only-of-type {\n",
       "        vertical-align: middle;\n",
       "    }\n",
       "\n",
       "    .dataframe tbody tr th {\n",
       "        vertical-align: top;\n",
       "    }\n",
       "\n",
       "    .dataframe thead th {\n",
       "        text-align: right;\n",
       "    }\n",
       "</style>\n",
       "<table border=\"1\" class=\"dataframe\">\n",
       "  <thead>\n",
       "    <tr style=\"text-align: right;\">\n",
       "      <th></th>\n",
       "      <th>bookID</th>\n",
       "      <th>title</th>\n",
       "      <th>authors</th>\n",
       "      <th>language_code</th>\n",
       "      <th>publication_date</th>\n",
       "      <th>publisher</th>\n",
       "    </tr>\n",
       "  </thead>\n",
       "  <tbody>\n",
       "    <tr>\n",
       "      <th>count</th>\n",
       "      <td>11072</td>\n",
       "      <td>11072</td>\n",
       "      <td>11072</td>\n",
       "      <td>11072</td>\n",
       "      <td>11072</td>\n",
       "      <td>11072</td>\n",
       "    </tr>\n",
       "    <tr>\n",
       "      <th>unique</th>\n",
       "      <td>11072</td>\n",
       "      <td>10301</td>\n",
       "      <td>6625</td>\n",
       "      <td>25</td>\n",
       "      <td>3671</td>\n",
       "      <td>2283</td>\n",
       "    </tr>\n",
       "    <tr>\n",
       "      <th>top</th>\n",
       "      <td>1</td>\n",
       "      <td>The Brothers Karamazov</td>\n",
       "      <td>P.G. Wodehouse</td>\n",
       "      <td>eng</td>\n",
       "      <td>10/1/2005</td>\n",
       "      <td>Vintage</td>\n",
       "    </tr>\n",
       "    <tr>\n",
       "      <th>freq</th>\n",
       "      <td>1</td>\n",
       "      <td>9</td>\n",
       "      <td>40</td>\n",
       "      <td>10266</td>\n",
       "      <td>56</td>\n",
       "      <td>318</td>\n",
       "    </tr>\n",
       "  </tbody>\n",
       "</table>\n",
       "</div>"
      ],
      "text/plain": [
       "       bookID                   title         authors language_code  \\\n",
       "count   11072                   11072           11072         11072   \n",
       "unique  11072                   10301            6625            25   \n",
       "top         1  The Brothers Karamazov  P.G. Wodehouse           eng   \n",
       "freq        1                       9              40         10266   \n",
       "\n",
       "       publication_date publisher  \n",
       "count             11072     11072  \n",
       "unique             3671      2283  \n",
       "top           10/1/2005   Vintage  \n",
       "freq                 56       318  "
      ]
     },
     "metadata": {},
     "output_type": "display_data"
    },
    {
     "name": "stdout",
     "output_type": "stream",
     "text": [
      "********Languages Code********\n"
     ]
    },
    {
     "data": {
      "text/plain": [
       "eng      10266\n",
       "spa        218\n",
       "en-GB      214\n",
       "fre        144\n",
       "ger         99\n",
       "jpn         46\n",
       "mul         19\n",
       "zho         14\n",
       "grc         11\n",
       "por         10\n",
       "en-CA        7\n",
       "ita          5\n",
       "lat          3\n",
       "enm          3\n",
       "rus          2\n",
       "swe          2\n",
       "gla          1\n",
       "wel          1\n",
       "tur          1\n",
       "nl           1\n",
       "nor          1\n",
       "glg          1\n",
       "msa          1\n",
       "ara          1\n",
       "ale          1\n",
       "Name: language_code, dtype: int64"
      ]
     },
     "execution_count": 8,
     "metadata": {},
     "output_type": "execute_result"
    }
   ],
   "source": [
    "df_categorical = df_formatted.select_dtypes(include=[\"object\",\"string\",\"category\"])\n",
    "display(df_categorical.describe())\n",
    "print(\"********Languages Code********\")\n",
    "df_formatted[\"language_code\"].value_counts()"
   ]
  },
  {
   "cell_type": "markdown",
   "metadata": {},
   "source": [
    "To answer __question 2__ \"How books in other languages are rated?\", we treat repeated characters and we make a graphical visualization of the relation between languages and ratings."
   ]
  },
  {
   "cell_type": "code",
   "execution_count": 9,
   "metadata": {},
   "outputs": [
    {
     "data": {
      "text/html": [
       "<div>\n",
       "<style scoped>\n",
       "    .dataframe tbody tr th:only-of-type {\n",
       "        vertical-align: middle;\n",
       "    }\n",
       "\n",
       "    .dataframe tbody tr th {\n",
       "        vertical-align: top;\n",
       "    }\n",
       "\n",
       "    .dataframe thead th {\n",
       "        text-align: right;\n",
       "    }\n",
       "</style>\n",
       "<table border=\"1\" class=\"dataframe\">\n",
       "  <thead>\n",
       "    <tr style=\"text-align: right;\">\n",
       "      <th></th>\n",
       "      <th>bookID</th>\n",
       "      <th>title</th>\n",
       "      <th>authors</th>\n",
       "      <th>average_rating</th>\n",
       "      <th>language_code</th>\n",
       "      <th>num_pages</th>\n",
       "      <th>ratings_count</th>\n",
       "      <th>text_reviews_count</th>\n",
       "      <th>publication_date</th>\n",
       "      <th>publisher</th>\n",
       "    </tr>\n",
       "  </thead>\n",
       "  <tbody>\n",
       "    <tr>\n",
       "      <th>0</th>\n",
       "      <td>1</td>\n",
       "      <td>Harry Potter and the Half-Blood Prince (Harry Potter  #6)</td>\n",
       "      <td>J.K. Rowling/Mary GrandPré</td>\n",
       "      <td>4.57</td>\n",
       "      <td>eng</td>\n",
       "      <td>652</td>\n",
       "      <td>2095690</td>\n",
       "      <td>27591</td>\n",
       "      <td>9/16/2006</td>\n",
       "      <td>Scholastic Inc.</td>\n",
       "    </tr>\n",
       "    <tr>\n",
       "      <th>1</th>\n",
       "      <td>2</td>\n",
       "      <td>Harry Potter and the Order of the Phoenix (Harry Potter  #5)</td>\n",
       "      <td>J.K. Rowling/Mary GrandPré</td>\n",
       "      <td>4.49</td>\n",
       "      <td>eng</td>\n",
       "      <td>870</td>\n",
       "      <td>2153167</td>\n",
       "      <td>29221</td>\n",
       "      <td>9/1/2004</td>\n",
       "      <td>Scholastic Inc.</td>\n",
       "    </tr>\n",
       "    <tr>\n",
       "      <th>2</th>\n",
       "      <td>4</td>\n",
       "      <td>Harry Potter and the Chamber of Secrets (Harry Potter  #2)</td>\n",
       "      <td>J.K. Rowling</td>\n",
       "      <td>4.42</td>\n",
       "      <td>eng</td>\n",
       "      <td>352</td>\n",
       "      <td>6333</td>\n",
       "      <td>244</td>\n",
       "      <td>11/1/2003</td>\n",
       "      <td>Scholastic</td>\n",
       "    </tr>\n",
       "    <tr>\n",
       "      <th>3</th>\n",
       "      <td>5</td>\n",
       "      <td>Harry Potter and the Prisoner of Azkaban (Harry Potter  #3)</td>\n",
       "      <td>J.K. Rowling/Mary GrandPré</td>\n",
       "      <td>4.56</td>\n",
       "      <td>eng</td>\n",
       "      <td>435</td>\n",
       "      <td>2339585</td>\n",
       "      <td>36325</td>\n",
       "      <td>5/1/2004</td>\n",
       "      <td>Scholastic Inc.</td>\n",
       "    </tr>\n",
       "    <tr>\n",
       "      <th>4</th>\n",
       "      <td>8</td>\n",
       "      <td>Harry Potter Boxed Set  Books 1-5 (Harry Potter  #1-5)</td>\n",
       "      <td>J.K. Rowling/Mary GrandPré</td>\n",
       "      <td>4.78</td>\n",
       "      <td>eng</td>\n",
       "      <td>2690</td>\n",
       "      <td>41428</td>\n",
       "      <td>164</td>\n",
       "      <td>9/13/2004</td>\n",
       "      <td>Scholastic</td>\n",
       "    </tr>\n",
       "  </tbody>\n",
       "</table>\n",
       "</div>"
      ],
      "text/plain": [
       "  bookID                                                         title  \\\n",
       "0      1     Harry Potter and the Half-Blood Prince (Harry Potter  #6)   \n",
       "1      2  Harry Potter and the Order of the Phoenix (Harry Potter  #5)   \n",
       "2      4    Harry Potter and the Chamber of Secrets (Harry Potter  #2)   \n",
       "3      5   Harry Potter and the Prisoner of Azkaban (Harry Potter  #3)   \n",
       "4      8        Harry Potter Boxed Set  Books 1-5 (Harry Potter  #1-5)   \n",
       "\n",
       "                      authors  average_rating language_code  num_pages  \\\n",
       "0  J.K. Rowling/Mary GrandPré            4.57           eng        652   \n",
       "1  J.K. Rowling/Mary GrandPré            4.49           eng        870   \n",
       "2                J.K. Rowling            4.42           eng        352   \n",
       "3  J.K. Rowling/Mary GrandPré            4.56           eng        435   \n",
       "4  J.K. Rowling/Mary GrandPré            4.78           eng       2690   \n",
       "\n",
       "   ratings_count  text_reviews_count publication_date        publisher  \n",
       "0        2095690               27591        9/16/2006  Scholastic Inc.  \n",
       "1        2153167               29221         9/1/2004  Scholastic Inc.  \n",
       "2           6333                 244        11/1/2003       Scholastic  \n",
       "3        2339585               36325         5/1/2004  Scholastic Inc.  \n",
       "4          41428                 164        9/13/2004       Scholastic  "
      ]
     },
     "execution_count": 9,
     "metadata": {},
     "output_type": "execute_result"
    }
   ],
   "source": [
    "df_formatted[\"language_code\"] = df_formatted[\"language_code\"].replace(to_replace=[\"en-GB\", \"en-CA\"], value=\"eng\")\n",
    "df_formatted.head()"
   ]
  },
  {
   "cell_type": "code",
   "execution_count": 10,
   "metadata": {},
   "outputs": [
    {
     "data": {
      "text/plain": [
       "<Axes: xlabel='average_rating', ylabel='language_code'>"
      ]
     },
     "execution_count": 10,
     "metadata": {},
     "output_type": "execute_result"
    },
    {
     "data": {
      "image/png": "[encoded data removed]",
      "text/plain": [
       "<Figure size 640x480 with 1 Axes>"
      ]
     },
     "metadata": {},
     "output_type": "display_data"
    }
   ],
   "source": [
    "sns.boxplot(data = df_formatted, x = \"average_rating\", y= \"language_code\")"
   ]
  },
  {
   "cell_type": "markdown",
   "metadata": {},
   "source": [
    "#### 1.1 Data transformation of the language code"
   ]
  },
  {
   "cell_type": "code",
   "execution_count": 11,
   "metadata": {},
   "outputs": [
    {
     "name": "stdout",
     "output_type": "stream",
     "text": [
      "Quantity of languages different from ENG, SPA and FRE:223\n"
     ]
    }
   ],
   "source": [
    "print(f'Quantity of languages different from ENG, SPA and FRE:{((df_formatted[\"language_code\"].str.lower()!=\"eng\")&(df_formatted[\"language_code\"].str.lower()!=\"spa\")&(df_formatted[\"language_code\"].str.lower()!=\"fre\")).sum()}')\n",
    "df_formatted[\"language_code\"] = df_formatted[\"language_code\"].map(lambda x: x.lower() if x.lower() in [\"eng\", \"spa\", \"fre\"] else \"other\")"
   ]
  },
  {
   "cell_type": "markdown",
   "metadata": {},
   "source": [
    "### 2 Publisher"
   ]
  },
  {
   "cell_type": "code",
   "execution_count": 17,
   "metadata": {},
   "outputs": [
    {
     "data": {
      "text/plain": [
       "Vintage                         318\n",
       "Penguin Books                   261\n",
       "Penguin Classics                184\n",
       "Mariner Books                   150\n",
       "Ballantine Books                144\n",
       "HarperCollins                   112\n",
       "Pocket Books                    111\n",
       "Harper Perennial                111\n",
       "Bantam                          110\n",
       "VIZ Media LLC                    88\n",
       "Berkley                          86\n",
       "Dover Publications               85\n",
       "Modern Library                   81\n",
       "Del Rey                          80\n",
       "Tor Books                        76\n",
       "Oxford University Press  USA     75\n",
       "Scribner                         73\n",
       "Oxford University Press          72\n",
       "Grand Central Publishing         72\n",
       "W. W. Norton  Company            68\n",
       "Signet                           66\n",
       "Cambridge University Press       66\n",
       "Simon  Schuster                  65\n",
       "Anchor                           62\n",
       "Penguin                          58\n",
       "William Morrow Paperbacks        58\n",
       "Scholastic Paperbacks            56\n",
       "Avon                             55\n",
       "Library of America               52\n",
       "Puffin Books                     50\n",
       "Name: publisher, dtype: Int64"
      ]
     },
     "execution_count": 17,
     "metadata": {},
     "output_type": "execute_result"
    }
   ],
   "source": [
    "pd.set_option('display.max_rows', None)\n",
    "df_formatted[\"publisher\"].value_counts().head(30)"
   ]
  },
  {
   "cell_type": "markdown",
   "metadata": {},
   "source": [
    "To answer __question 3__ \"3. Does the publisher impact the ratings?\", we first do some data cleaning.\n",
    "Others ideas to treat the publisher would be:\n",
    "* replace Ltd by Limited\n",
    "* remove Inc. or Inc"
   ]
  },
  {
   "cell_type": "code",
   "execution_count": 13,
   "metadata": {},
   "outputs": [
    {
     "name": "stdout",
     "output_type": "stream",
     "text": [
      "Rows of publisher that contains \"&\"s: 325, \"and\"s: 482\n",
      "Original publisher unique values: 2283\n",
      "Post-treated publisher unique values: 2271 \n",
      "\n"
     ]
    }
   ],
   "source": [
    "print(f'Rows of publisher that contains \"&\"s: {df_formatted[\"publisher\"].str.contains(\"&\", regex=True).sum()}, \"and\"s: {df_formatted[\"publisher\"].str.contains(\"and\", regex=True).sum()}')\n",
    "print(f'Original publisher unique values: {df_formatted[\"publisher\"].value_counts().size}')\n",
    "\n",
    "df_formatted[\"publisher\"] = df_formatted.replace({\"publisher\":\"&\"}, \"and\", regex=True)[\"publisher\"]\n",
    "print(f'Post-treated publisher unique values: {df_formatted[\"publisher\"].value_counts().size} \\n')\n",
    "\n",
    "#print(f'Rows of publisher that contains \"Ltd\": {df_formatted[\"publisher\"].str.contains(\"Ltd\", regex=True).sum()}, \"Ltd.\": {df_formatted[\"publisher\"].str.contains(\"Ltd.\", regex=False).sum()}')"
   ]
  },
  {
   "cell_type": "markdown",
   "metadata": {},
   "source": [
    "### 3 Authors"
   ]
  },
  {
   "cell_type": "code",
   "execution_count": 14,
   "metadata": {},
   "outputs": [
    {
     "data": {
      "text/html": [
       "<div>\n",
       "<style scoped>\n",
       "    .dataframe tbody tr th:only-of-type {\n",
       "        vertical-align: middle;\n",
       "    }\n",
       "\n",
       "    .dataframe tbody tr th {\n",
       "        vertical-align: top;\n",
       "    }\n",
       "\n",
       "    .dataframe thead th {\n",
       "        text-align: right;\n",
       "    }\n",
       "</style>\n",
       "<table border=\"1\" class=\"dataframe\">\n",
       "  <thead>\n",
       "    <tr style=\"text-align: right;\">\n",
       "      <th></th>\n",
       "      <th>authors</th>\n",
       "    </tr>\n",
       "  </thead>\n",
       "  <tbody>\n",
       "    <tr>\n",
       "      <th>0</th>\n",
       "      <td>J.K. Rowling/Mary GrandPré</td>\n",
       "    </tr>\n",
       "    <tr>\n",
       "      <th>1</th>\n",
       "      <td>J.K. Rowling/Mary GrandPré</td>\n",
       "    </tr>\n",
       "    <tr>\n",
       "      <th>2</th>\n",
       "      <td>J.K. Rowling</td>\n",
       "    </tr>\n",
       "    <tr>\n",
       "      <th>3</th>\n",
       "      <td>J.K. Rowling/Mary GrandPré</td>\n",
       "    </tr>\n",
       "    <tr>\n",
       "      <th>4</th>\n",
       "      <td>J.K. Rowling/Mary GrandPré</td>\n",
       "    </tr>\n",
       "  </tbody>\n",
       "</table>\n",
       "</div>"
      ],
      "text/plain": [
       "                      authors\n",
       "0  J.K. Rowling/Mary GrandPré\n",
       "1  J.K. Rowling/Mary GrandPré\n",
       "2                J.K. Rowling\n",
       "3  J.K. Rowling/Mary GrandPré\n",
       "4  J.K. Rowling/Mary GrandPré"
      ]
     },
     "execution_count": 14,
     "metadata": {},
     "output_type": "execute_result"
    }
   ],
   "source": [
    "df_formatted[[\"authors\"]].head()"
   ]
  },
  {
   "cell_type": "markdown",
   "metadata": {},
   "source": [
    "The quantity of authors per book can be a good feature to be evaluated:"
   ]
  },
  {
   "cell_type": "code",
   "execution_count": 15,
   "metadata": {},
   "outputs": [],
   "source": [
    "df_formatted[\"number_of_authors\"] = df_formatted[\"authors\"].str.split(\"/\").apply(lambda x: len(x))"
   ]
  },
  {
   "cell_type": "markdown",
   "metadata": {},
   "source": [
    "The simplest idea for a first iteration is to keep only the first author of the column:"
   ]
  },
  {
   "cell_type": "code",
   "execution_count": 16,
   "metadata": {},
   "outputs": [
    {
     "data": {
      "text/plain": [
       "William Shakespeare    88\n",
       "Stephen King           81\n",
       "J.R.R. Tolkien         51\n",
       "P.G. Wodehouse         46\n",
       "Agatha Christie        44\n",
       "Name: authors, dtype: Int64"
      ]
     },
     "execution_count": 16,
     "metadata": {},
     "output_type": "execute_result"
    }
   ],
   "source": [
    "df_formatted[\"authors\"] = df_formatted[\"authors\"].str.split(pat=\"/\",n=1, expand= True)[0]\n",
    "df_formatted[\"authors\"].value_counts().head()"
   ]
  },
  {
   "cell_type": "markdown",
   "metadata": {},
   "source": [
    "### 4 Publication date"
   ]
  },
  {
   "cell_type": "markdown",
   "metadata": {},
   "source": [
    "To answer __question 4__ \"Does books published long ago are better rated than recently published ones?\", we do a feature transformation, converting the data to year, then converting it to ranges from a quartile."
   ]
  },
  {
   "cell_type": "code",
   "execution_count": 16,
   "metadata": {},
   "outputs": [],
   "source": [
    "# Forcing the correction, but a function would be better for this\n",
    "df_formatted.loc[8180, \"publication_date\"] = \"11/30/2000\"\n",
    "df_formatted.loc[11098, \"publication_date\"] = \"6/30/1982\"  "
   ]
  },
  {
   "cell_type": "code",
   "execution_count": 17,
   "metadata": {},
   "outputs": [
    {
     "name": "stdout",
     "output_type": "stream",
     "text": [
      "1.08 s ± 16.6 ms per loop (mean ± std. dev. of 7 runs, 1 loop each)\n",
      "Today date: 2023-08-14 00:00:00\n"
     ]
    }
   ],
   "source": [
    "%timeit df_formatted[\"publication_date_datetime\"] = df_formatted[\"publication_date\"].apply(lambda x: pd.to_datetime(x, format = '%m/%d/%Y', errors = 'coerce'))\n",
    "\n",
    "today = pd.to_datetime('today').normalize()\n",
    "print(\"Today date:\", today)"
   ]
  },
  {
   "cell_type": "markdown",
   "metadata": {},
   "source": [
    "If there are dates not written in a good format, they'll appear below:"
   ]
  },
  {
   "cell_type": "code",
   "execution_count": 18,
   "metadata": {},
   "outputs": [
    {
     "data": {
      "text/html": [
       "<div>\n",
       "<style scoped>\n",
       "    .dataframe tbody tr th:only-of-type {\n",
       "        vertical-align: middle;\n",
       "    }\n",
       "\n",
       "    .dataframe tbody tr th {\n",
       "        vertical-align: top;\n",
       "    }\n",
       "\n",
       "    .dataframe thead th {\n",
       "        text-align: right;\n",
       "    }\n",
       "</style>\n",
       "<table border=\"1\" class=\"dataframe\">\n",
       "  <thead>\n",
       "    <tr style=\"text-align: right;\">\n",
       "      <th></th>\n",
       "      <th>bookID</th>\n",
       "      <th>title</th>\n",
       "      <th>authors</th>\n",
       "      <th>average_rating</th>\n",
       "      <th>language_code</th>\n",
       "      <th>num_pages</th>\n",
       "      <th>ratings_count</th>\n",
       "      <th>text_reviews_count</th>\n",
       "      <th>publication_date</th>\n",
       "      <th>publisher</th>\n",
       "      <th>number_of_authors</th>\n",
       "      <th>publication_date_datetime</th>\n",
       "    </tr>\n",
       "  </thead>\n",
       "  <tbody>\n",
       "  </tbody>\n",
       "</table>\n",
       "</div>"
      ],
      "text/plain": [
       "Empty DataFrame\n",
       "Columns: [bookID, title, authors, average_rating, language_code, num_pages, ratings_count, text_reviews_count, publication_date, publisher, number_of_authors, publication_date_datetime]\n",
       "Index: []"
      ]
     },
     "execution_count": 18,
     "metadata": {},
     "output_type": "execute_result"
    }
   ],
   "source": [
    "df_formatted.loc[df_formatted[\"publication_date_datetime\"].isna()]"
   ]
  },
  {
   "cell_type": "code",
   "execution_count": 19,
   "metadata": {},
   "outputs": [],
   "source": [
    "df_formatted[\"book_age\"] = df_formatted[\"publication_date_datetime\"].apply(lambda x:- (x.year - today.year))"
   ]
  },
  {
   "cell_type": "code",
   "execution_count": 20,
   "metadata": {},
   "outputs": [
    {
     "data": {
      "text/plain": [
       "count    11072.000000\n",
       "mean        22.846098\n",
       "std          8.261279\n",
       "min          3.000000\n",
       "25%         18.000000\n",
       "50%         20.000000\n",
       "75%         25.000000\n",
       "max        123.000000\n",
       "Name: book_age, dtype: float64"
      ]
     },
     "execution_count": 20,
     "metadata": {},
     "output_type": "execute_result"
    }
   ],
   "source": [
    "df_formatted[\"book_age\"].describe()"
   ]
  },
  {
   "cell_type": "code",
   "execution_count": 21,
   "metadata": {},
   "outputs": [
    {
     "data": {
      "text/plain": [
       "<Axes: xlabel='year', ylabel='average_rating'>"
      ]
     },
     "execution_count": 21,
     "metadata": {},
     "output_type": "execute_result"
    },
    {
     "data": {
      "image/png": "[encoded data removed]",
      "text/plain": [
       "<Figure size 640x480 with 1 Axes>"
      ]
     },
     "metadata": {},
     "output_type": "display_data"
    }
   ],
   "source": [
    "df_formatted[\"year\"] = df_formatted[\"publication_date_datetime\"].dt.year\n",
    "sns.scatterplot(data = df_formatted, x =\"year\", y =\"average_rating\")"
   ]
  },
  {
   "cell_type": "markdown",
   "metadata": {},
   "source": [
    "Data transformation of the feature year into quartiles. The first one comprehends more recent years."
   ]
  },
  {
   "cell_type": "code",
   "execution_count": 22,
   "metadata": {},
   "outputs": [],
   "source": [
    "df_formatted[\"years_ago\"] = pd.qcut(df_formatted[\"year\"],4, labels = [4,3,2,1])"
   ]
  },
  {
   "cell_type": "markdown",
   "metadata": {},
   "source": [
    "### 5 Title"
   ]
  },
  {
   "cell_type": "markdown",
   "metadata": {},
   "source": [
    "Maybe the quantity of words in a book name may have an importance on its rating:"
   ]
  },
  {
   "cell_type": "code",
   "execution_count": 23,
   "metadata": {},
   "outputs": [
    {
     "data": {
      "text/html": [
       "<div>\n",
       "<style scoped>\n",
       "    .dataframe tbody tr th:only-of-type {\n",
       "        vertical-align: middle;\n",
       "    }\n",
       "\n",
       "    .dataframe tbody tr th {\n",
       "        vertical-align: top;\n",
       "    }\n",
       "\n",
       "    .dataframe thead th {\n",
       "        text-align: right;\n",
       "    }\n",
       "</style>\n",
       "<table border=\"1\" class=\"dataframe\">\n",
       "  <thead>\n",
       "    <tr style=\"text-align: right;\">\n",
       "      <th></th>\n",
       "      <th>title</th>\n",
       "      <th>number_of_words</th>\n",
       "    </tr>\n",
       "  </thead>\n",
       "  <tbody>\n",
       "    <tr>\n",
       "      <th>0</th>\n",
       "      <td>Harry Potter and the Half-Blood Prince (Harry Potter  #6)</td>\n",
       "      <td>10</td>\n",
       "    </tr>\n",
       "    <tr>\n",
       "      <th>1</th>\n",
       "      <td>Harry Potter and the Order of the Phoenix (Harry Potter  #5)</td>\n",
       "      <td>12</td>\n",
       "    </tr>\n",
       "    <tr>\n",
       "      <th>2</th>\n",
       "      <td>Harry Potter and the Chamber of Secrets (Harry Potter  #2)</td>\n",
       "      <td>11</td>\n",
       "    </tr>\n",
       "    <tr>\n",
       "      <th>3</th>\n",
       "      <td>Harry Potter and the Prisoner of Azkaban (Harry Potter  #3)</td>\n",
       "      <td>11</td>\n",
       "    </tr>\n",
       "    <tr>\n",
       "      <th>4</th>\n",
       "      <td>Harry Potter Boxed Set  Books 1-5 (Harry Potter  #1-5)</td>\n",
       "      <td>11</td>\n",
       "    </tr>\n",
       "  </tbody>\n",
       "</table>\n",
       "</div>"
      ],
      "text/plain": [
       "                                                          title  \\\n",
       "0     Harry Potter and the Half-Blood Prince (Harry Potter  #6)   \n",
       "1  Harry Potter and the Order of the Phoenix (Harry Potter  #5)   \n",
       "2    Harry Potter and the Chamber of Secrets (Harry Potter  #2)   \n",
       "3   Harry Potter and the Prisoner of Azkaban (Harry Potter  #3)   \n",
       "4        Harry Potter Boxed Set  Books 1-5 (Harry Potter  #1-5)   \n",
       "\n",
       "   number_of_words  \n",
       "0               10  \n",
       "1               12  \n",
       "2               11  \n",
       "3               11  \n",
       "4               11  "
      ]
     },
     "execution_count": 23,
     "metadata": {},
     "output_type": "execute_result"
    }
   ],
   "source": [
    "df_formatted[\"number_of_words\"] = df_formatted[\"title\"].apply(lambda x: len(x.split(\" \")))\n",
    "df_formatted[[\"title\",\"number_of_words\"]].head()"
   ]
  },
  {
   "cell_type": "code",
   "execution_count": 24,
   "metadata": {},
   "outputs": [
    {
     "name": "stdout",
     "output_type": "stream",
     "text": [
      "Quantity of books that belong to a series: 2337\n",
      "Corresponding to 21% of the dataset\n"
     ]
    }
   ],
   "source": [
    "print(f\"Quantity of books that belong to a series: {df_formatted['title'].str.contains('#').sum()}\")\n",
    "print(\"Corresponding to {}% of the dataset\".format(round(100*df_formatted['title'].str.contains('#').sum()/df_formatted.shape[0]),1))"
   ]
  },
  {
   "cell_type": "markdown",
   "metadata": {},
   "source": [
    "A feature that tells us if the book belongs to a series of book or not.\n",
    "From the boxplot we can conclude that the median of books series is higher. However, its distribution its 4th quartile range has lower maximum average rating."
   ]
  },
  {
   "cell_type": "code",
   "execution_count": 25,
   "metadata": {},
   "outputs": [
    {
     "data": {
      "text/plain": [
       "<Axes: xlabel='if_series', ylabel='average_rating'>"
      ]
     },
     "execution_count": 25,
     "metadata": {},
     "output_type": "execute_result"
    },
    {
     "data": {
      "image/png": "[encoded data removed]",
      "text/plain": [
       "<Figure size 640x480 with 1 Axes>"
      ]
     },
     "metadata": {},
     "output_type": "display_data"
    }
   ],
   "source": [
    "df_formatted['if_series'] = df_formatted['title'].str.contains('#') #include the parethesis\n",
    "sns.boxplot(data = df_formatted, x =\"if_series\", y =\"average_rating\")"
   ]
  },
  {
   "cell_type": "code",
   "execution_count": 26,
   "metadata": {},
   "outputs": [
    {
     "name": "stderr",
     "output_type": "stream",
     "text": [
      "/tmp/ipykernel_42107/2998510005.py:1: FutureWarning: The default value of numeric_only in DataFrame.corr is deprecated. In a future version, it will default to False. Select only valid columns or specify the value of numeric_only to silence this warning.\n",
      "  sns.heatmap(df_formatted.corr(), annot = True, fmt=\".1f\")\n"
     ]
    },
    {
     "data": {
      "text/plain": [
       "<Axes: >"
      ]
     },
     "execution_count": 26,
     "metadata": {},
     "output_type": "execute_result"
    },
    {
     "data": {
      "image/png": "[encoded data removed]",
      "text/plain": [
       "<Figure size 640x480 with 2 Axes>"
      ]
     },
     "metadata": {},
     "output_type": "display_data"
    }
   ],
   "source": [
    "sns.heatmap(df_formatted.corr(), annot = True, fmt=\".1f\")"
   ]
  },
  {
   "cell_type": "markdown",
   "metadata": {},
   "source": [
    "# Model selection"
   ]
  },
  {
   "cell_type": "code",
   "execution_count": 31,
   "metadata": {},
   "outputs": [
    {
     "data": {
      "text/html": [
       "<div>\n",
       "<style scoped>\n",
       "    .dataframe tbody tr th:only-of-type {\n",
       "        vertical-align: middle;\n",
       "    }\n",
       "\n",
       "    .dataframe tbody tr th {\n",
       "        vertical-align: top;\n",
       "    }\n",
       "\n",
       "    .dataframe thead th {\n",
       "        text-align: right;\n",
       "    }\n",
       "</style>\n",
       "<table border=\"1\" class=\"dataframe\">\n",
       "  <thead>\n",
       "    <tr style=\"text-align: right;\">\n",
       "      <th></th>\n",
       "      <th>authors</th>\n",
       "      <th>average_rating</th>\n",
       "      <th>language_code</th>\n",
       "      <th>num_pages</th>\n",
       "      <th>ratings_count</th>\n",
       "      <th>publisher</th>\n",
       "      <th>number_of_authors</th>\n",
       "      <th>book_age</th>\n",
       "      <th>number_of_words</th>\n",
       "      <th>if_series</th>\n",
       "    </tr>\n",
       "    <tr>\n",
       "      <th>bookID</th>\n",
       "      <th></th>\n",
       "      <th></th>\n",
       "      <th></th>\n",
       "      <th></th>\n",
       "      <th></th>\n",
       "      <th></th>\n",
       "      <th></th>\n",
       "      <th></th>\n",
       "      <th></th>\n",
       "      <th></th>\n",
       "    </tr>\n",
       "  </thead>\n",
       "  <tbody>\n",
       "    <tr>\n",
       "      <th>1</th>\n",
       "      <td>J.K. Rowling</td>\n",
       "      <td>4.57</td>\n",
       "      <td>eng</td>\n",
       "      <td>652</td>\n",
       "      <td>2095690</td>\n",
       "      <td>Scholastic Inc.</td>\n",
       "      <td>2</td>\n",
       "      <td>17</td>\n",
       "      <td>10</td>\n",
       "      <td>True</td>\n",
       "    </tr>\n",
       "    <tr>\n",
       "      <th>2</th>\n",
       "      <td>J.K. Rowling</td>\n",
       "      <td>4.49</td>\n",
       "      <td>eng</td>\n",
       "      <td>870</td>\n",
       "      <td>2153167</td>\n",
       "      <td>Scholastic Inc.</td>\n",
       "      <td>2</td>\n",
       "      <td>19</td>\n",
       "      <td>12</td>\n",
       "      <td>True</td>\n",
       "    </tr>\n",
       "    <tr>\n",
       "      <th>4</th>\n",
       "      <td>J.K. Rowling</td>\n",
       "      <td>4.42</td>\n",
       "      <td>eng</td>\n",
       "      <td>352</td>\n",
       "      <td>6333</td>\n",
       "      <td>Scholastic</td>\n",
       "      <td>1</td>\n",
       "      <td>20</td>\n",
       "      <td>11</td>\n",
       "      <td>True</td>\n",
       "    </tr>\n",
       "    <tr>\n",
       "      <th>5</th>\n",
       "      <td>J.K. Rowling</td>\n",
       "      <td>4.56</td>\n",
       "      <td>eng</td>\n",
       "      <td>435</td>\n",
       "      <td>2339585</td>\n",
       "      <td>Scholastic Inc.</td>\n",
       "      <td>2</td>\n",
       "      <td>19</td>\n",
       "      <td>11</td>\n",
       "      <td>True</td>\n",
       "    </tr>\n",
       "    <tr>\n",
       "      <th>8</th>\n",
       "      <td>J.K. Rowling</td>\n",
       "      <td>4.78</td>\n",
       "      <td>eng</td>\n",
       "      <td>2690</td>\n",
       "      <td>41428</td>\n",
       "      <td>Scholastic</td>\n",
       "      <td>2</td>\n",
       "      <td>19</td>\n",
       "      <td>11</td>\n",
       "      <td>True</td>\n",
       "    </tr>\n",
       "  </tbody>\n",
       "</table>\n",
       "</div>"
      ],
      "text/plain": [
       "             authors  average_rating language_code  num_pages  ratings_count  \\\n",
       "bookID                                                                         \n",
       "1       J.K. Rowling            4.57           eng        652        2095690   \n",
       "2       J.K. Rowling            4.49           eng        870        2153167   \n",
       "4       J.K. Rowling            4.42           eng        352           6333   \n",
       "5       J.K. Rowling            4.56           eng        435        2339585   \n",
       "8       J.K. Rowling            4.78           eng       2690          41428   \n",
       "\n",
       "              publisher  number_of_authors  book_age  number_of_words  \\\n",
       "bookID                                                                  \n",
       "1       Scholastic Inc.                  2        17               10   \n",
       "2       Scholastic Inc.                  2        19               12   \n",
       "4            Scholastic                  1        20               11   \n",
       "5       Scholastic Inc.                  2        19               11   \n",
       "8            Scholastic                  2        19               11   \n",
       "\n",
       "        if_series  \n",
       "bookID             \n",
       "1            True  \n",
       "2            True  \n",
       "4            True  \n",
       "5            True  \n",
       "8            True  "
      ]
     },
     "execution_count": 31,
     "metadata": {},
     "output_type": "execute_result"
    }
   ],
   "source": [
    "df_1 = df_formatted.set_index(\"bookID\").drop(columns = [\"text_reviews_count\", \"years_ago\",\"publication_date\", \"publication_date_datetime\", \"year\", \"title\"])\n",
    "df_1.head() #\"ratings_count\", "
   ]
  },
  {
   "cell_type": "code",
   "execution_count": 32,
   "metadata": {},
   "outputs": [
    {
     "data": {
      "text/html": [
       "<div>\n",
       "<style scoped>\n",
       "    .dataframe tbody tr th:only-of-type {\n",
       "        vertical-align: middle;\n",
       "    }\n",
       "\n",
       "    .dataframe tbody tr th {\n",
       "        vertical-align: top;\n",
       "    }\n",
       "\n",
       "    .dataframe thead th {\n",
       "        text-align: right;\n",
       "    }\n",
       "</style>\n",
       "<table border=\"1\" class=\"dataframe\">\n",
       "  <thead>\n",
       "    <tr style=\"text-align: right;\">\n",
       "      <th></th>\n",
       "      <th>authors</th>\n",
       "      <th>language_code</th>\n",
       "      <th>num_pages</th>\n",
       "      <th>ratings_count</th>\n",
       "      <th>publisher</th>\n",
       "      <th>number_of_authors</th>\n",
       "      <th>book_age</th>\n",
       "      <th>number_of_words</th>\n",
       "      <th>if_series</th>\n",
       "    </tr>\n",
       "    <tr>\n",
       "      <th>bookID</th>\n",
       "      <th></th>\n",
       "      <th></th>\n",
       "      <th></th>\n",
       "      <th></th>\n",
       "      <th></th>\n",
       "      <th></th>\n",
       "      <th></th>\n",
       "      <th></th>\n",
       "      <th></th>\n",
       "    </tr>\n",
       "  </thead>\n",
       "  <tbody>\n",
       "    <tr>\n",
       "      <th>1</th>\n",
       "      <td>J.K. Rowling</td>\n",
       "      <td>eng</td>\n",
       "      <td>652</td>\n",
       "      <td>2095690</td>\n",
       "      <td>Scholastic Inc.</td>\n",
       "      <td>2</td>\n",
       "      <td>17</td>\n",
       "      <td>10</td>\n",
       "      <td>True</td>\n",
       "    </tr>\n",
       "    <tr>\n",
       "      <th>2</th>\n",
       "      <td>J.K. Rowling</td>\n",
       "      <td>eng</td>\n",
       "      <td>870</td>\n",
       "      <td>2153167</td>\n",
       "      <td>Scholastic Inc.</td>\n",
       "      <td>2</td>\n",
       "      <td>19</td>\n",
       "      <td>12</td>\n",
       "      <td>True</td>\n",
       "    </tr>\n",
       "    <tr>\n",
       "      <th>4</th>\n",
       "      <td>J.K. Rowling</td>\n",
       "      <td>eng</td>\n",
       "      <td>352</td>\n",
       "      <td>6333</td>\n",
       "      <td>Scholastic</td>\n",
       "      <td>1</td>\n",
       "      <td>20</td>\n",
       "      <td>11</td>\n",
       "      <td>True</td>\n",
       "    </tr>\n",
       "    <tr>\n",
       "      <th>5</th>\n",
       "      <td>J.K. Rowling</td>\n",
       "      <td>eng</td>\n",
       "      <td>435</td>\n",
       "      <td>2339585</td>\n",
       "      <td>Scholastic Inc.</td>\n",
       "      <td>2</td>\n",
       "      <td>19</td>\n",
       "      <td>11</td>\n",
       "      <td>True</td>\n",
       "    </tr>\n",
       "    <tr>\n",
       "      <th>8</th>\n",
       "      <td>J.K. Rowling</td>\n",
       "      <td>eng</td>\n",
       "      <td>2690</td>\n",
       "      <td>41428</td>\n",
       "      <td>Scholastic</td>\n",
       "      <td>2</td>\n",
       "      <td>19</td>\n",
       "      <td>11</td>\n",
       "      <td>True</td>\n",
       "    </tr>\n",
       "  </tbody>\n",
       "</table>\n",
       "</div>"
      ],
      "text/plain": [
       "             authors language_code  num_pages  ratings_count        publisher  \\\n",
       "bookID                                                                          \n",
       "1       J.K. Rowling           eng        652        2095690  Scholastic Inc.   \n",
       "2       J.K. Rowling           eng        870        2153167  Scholastic Inc.   \n",
       "4       J.K. Rowling           eng        352           6333       Scholastic   \n",
       "5       J.K. Rowling           eng        435        2339585  Scholastic Inc.   \n",
       "8       J.K. Rowling           eng       2690          41428       Scholastic   \n",
       "\n",
       "        number_of_authors  book_age  number_of_words  if_series  \n",
       "bookID                                                           \n",
       "1                       2        17               10       True  \n",
       "2                       2        19               12       True  \n",
       "4                       1        20               11       True  \n",
       "5                       2        19               11       True  \n",
       "8                       2        19               11       True  "
      ]
     },
     "execution_count": 32,
     "metadata": {},
     "output_type": "execute_result"
    }
   ],
   "source": [
    "y = df_1[[\"average_rating\"]]\n",
    "X = df_1.drop(\"average_rating\", axis = 1)\n",
    "X.head()"
   ]
  },
  {
   "cell_type": "markdown",
   "metadata": {},
   "source": [
    "For this second iteration:  \n",
    "We keep the structure of pipeline with cross_validate. But for the evaluation of the results, we keep it simple only printing the metrics."
   ]
  },
  {
   "cell_type": "code",
   "execution_count": 33,
   "metadata": {},
   "outputs": [
    {
     "name": "stdout",
     "output_type": "stream",
     "text": [
      "\n",
      "        fit_time train: 0.029077768325805664\n",
      "         fit_time test: 0.029703617095947266\n",
      "         fit_time valid: 0.03260540962219238 \n",
      "\n",
      "\n",
      "        score_time train: 0.021455764770507812\n",
      "         score_time test: 0.01942586898803711\n",
      "         score_time valid: 0.015885591506958008 \n",
      "\n",
      "\n",
      "        test_neg_mean_absolute_error train: -0.21895696683545565\n",
      "         test_neg_mean_absolute_error test: -0.2333855939313177\n",
      "         test_neg_mean_absolute_error valid: -0.23305311591018357 \n",
      "\n",
      "\n",
      "        test_neg_mean_squared_error train: -0.10181887034731896\n",
      "         test_neg_mean_squared_error test: -0.12472390400342885\n",
      "         test_neg_mean_squared_error valid: -0.13003760178209117 \n",
      "\n",
      "\n",
      "        test_r2 train: 0.051879026179405874\n",
      "         test_r2 test: 0.02542835990316039\n",
      "         test_r2 valid: 0.023895862725764272 \n",
      "\n",
      "\n",
      "        fit_time train: 0.030927419662475586\n",
      "         fit_time test: 0.04592752456665039\n",
      "         fit_time valid: 0.03520822525024414 \n",
      "\n",
      "\n",
      "        score_time train: 0.01593184471130371\n",
      "         score_time test: 0.02496647834777832\n",
      "         score_time valid: 0.016362905502319336 \n",
      "\n",
      "\n",
      "        test_neg_mean_absolute_error train: -0.22284335512378922\n",
      "         test_neg_mean_absolute_error test: -0.23533124785131368\n",
      "         test_neg_mean_absolute_error valid: -0.2357007620073482 \n",
      "\n",
      "\n",
      "        test_neg_mean_squared_error train: -0.09900420171442506\n",
      "         test_neg_mean_squared_error test: -0.11604319588801451\n",
      "         test_neg_mean_squared_error valid: -0.11687137711500223 \n",
      "\n",
      "\n",
      "        test_r2 train: 0.07808876859845348\n",
      "         test_r2 test: 0.0932579553030023\n",
      "         test_r2 valid: 0.12272578725300609 \n",
      "\n"
     ]
    }
   ],
   "source": [
    "metrics_list = ['neg_mean_absolute_error','neg_mean_squared_error','r2']\n",
    "\n",
    "# the parameter handle_unknown stands for when \n",
    "preprocessor = ColumnTransformer([(\"author\", OrdinalEncoder(handle_unknown= \"use_encoded_value\", unknown_value = -1), [\"authors\"]),\n",
    "                                  (\"lang\", OneHotEncoder(), [\"language_code\"]),\n",
    "                                  (\"publisher\", OrdinalEncoder(handle_unknown= \"use_encoded_value\", unknown_value = -1), [\"publisher\"]),\n",
    "                                  (\"series\", OrdinalEncoder(), [\"if_series\"])\n",
    "                                  ], remainder='passthrough') # remainder allows columns not declared on the ColumnTransformer not to be dropped and\n",
    "                                  # passthrough it for the next step of the pipeline\n",
    "\n",
    "\n",
    "#models = [LinearRegression(), DecisionTreeRegressor(), GradientBoostingRegressor()]\n",
    "models = [LinearRegression(), DecisionTreeRegressor(max_depth=2)]\n",
    "for model in models:\n",
    "\n",
    "    model = Pipeline([(\"preprocessor\",preprocessor),(\"model\", model)])\n",
    "    results = cross_validate(model, X, y, cv = 3,scoring = metrics_list, return_train_score=False, error_score='raise')\n",
    "\n",
    "    for key, value in results.items():\n",
    "        print(f'''\n",
    "        {key} train: {value.tolist()[0]}\n",
    "         {key} test: {value.tolist()[1]}\n",
    "         {key} valid: {value.tolist()[2]} \\n''')\n",
    "# We see that both linear regression and decision tree present metrics close to each other for the validation dataset.\n",
    "# The mean absolute error (MAE) is around +- 0.23 for the ratings (e.g. value predicted +- 0.23 of error)\n",
    "# The R2 is very low around 0.02, while the closer to 1, the best the fit.\n",
    "# So the results are not so good."
   ]
  },
  {
   "cell_type": "code",
   "execution_count": null,
   "metadata": {},
   "outputs": [],
   "source": []
  }
 ],
 "metadata": {
  "kernelspec": {
   "display_name": "viet-reads",
   "language": "python",
   "name": "python3"
  },
  "language_info": {
   "codemirror_mode": {
    "name": "ipython",
    "version": 3
   },
   "file_extension": ".py",
   "mimetype": "text/x-python",
   "name": "python",
   "nbconvert_exporter": "python",
   "pygments_lexer": "ipython3",
   "version": "3.11.3"
  },
  "orig_nbformat": 4,
  "vscode": {
   "interpreter": {
    "hash": "3ceed6d46aabea58fbd93deb51058b1e8290a2c763388ed1c4933bcb91b9df5f"
   }
  }
 },
 "nbformat": 4,
 "nbformat_minor": 2
}
